{
 "cells": [
  {
   "cell_type": "code",
   "execution_count": 1,
   "metadata": {},
   "outputs": [],
   "source": [
    "import pdftotext\n",
    "import re\n",
    "from datetime import datetime\n",
    "\n",
    "def main(path):\n",
    "    palavras = load_pdf(path)\n",
    "    data_vencimento, valor, codigo_pagamento = dados_boleto(palavras)\n",
    "    print(f'Data:  {data_vencimento} | Valor: R${valor} \\nPagar: {codigo_pagamento}')\n",
    "\n",
    "def load_pdf(path):\n",
    "    with open(path, \"rb\") as f:\n",
    "        pdf = pdftotext.PDF(f)\n",
    "        pdf = pdf[0]\n",
    "\n",
    "    split = pdf.split()\n",
    "    clean = ' '.join(split).replace('_', '').replace('-', '').replace('(','').replace(')','')\n",
    "    palavras = clean.split()\n",
    "    \n",
    "    return palavras\n",
    "\n",
    "def data_valida(data):\n",
    "    try:\n",
    "        datetime.strptime(data, '%d/%m/%Y')\n",
    "        return True\n",
    "    except ValueError:\n",
    "        return False\n",
    "\n",
    "def is_float(val):\n",
    "    val = val.replace(',','.')\n",
    "    return all([ [any([i.isnumeric(), i in ['.','e']]) for i in val],  len(val.split('.')) == 2] )\n",
    "\n",
    "def validate_dados(lista):\n",
    "    is_equal = True\n",
    "    for i in range(len(lista) -1):\n",
    "        data1 = lista[i]    \n",
    "        data2 = lista[i+1]\n",
    "\n",
    "        if data1 == data2:\n",
    "            continue\n",
    "        else:\n",
    "            is_equal = False\n",
    "    \n",
    "    if is_equal:\n",
    "        return data1\n",
    "    else:\n",
    "        return \"not equal\"\n",
    "    \n",
    "def dados_boleto(palavras):\n",
    "    datas_vencimento = []\n",
    "    valores_boleto   = []\n",
    "    codigo_de_barras = []\n",
    "    \n",
    "    for i in range(len(palavras)):\n",
    "        if palavras[i] == \"Vencimento\":\n",
    "            for j in range(i,i+10):\n",
    "                if data_valida(palavras[j]):\n",
    "                    datas_vencimento.append(palavras[j])\n",
    "\n",
    "        if palavras[i] == \"Valor\":\n",
    "            for j in range(i, i+10):\n",
    "                if is_float(palavras[j]):            \n",
    "                    valores_boleto.append(palavras[j])\n",
    "\n",
    "        if palavras[i-1] == \"Autenticação\" and palavras[i] == \"Mecânica\":\n",
    "            for j in range(i+2,i+10):\n",
    "                try: \n",
    "                    float(palavras[j])\n",
    "                    codigo_de_barras.append(palavras[j])\n",
    "                except: \n",
    "                    continue\n",
    "\n",
    "    data_vencimento  = validate_dados(datas_vencimento)\n",
    "    valor            = validate_dados(valores_boleto)\n",
    "    codigo_pagamento = (' ').join(codigo_de_barras).replace('.',' ')\n",
    "    \n",
    "    return data_vencimento, valor, codigo_pagamento"
   ]
  },
  {
   "cell_type": "code",
   "execution_count": 2,
   "metadata": {},
   "outputs": [
    {
     "name": "stdout",
     "output_type": "stream",
     "text": [
      "Data:  20/12/2020 | Valor: R$522,50 \n",
      "Pagar: 74891 12024 13550 307303 11961 701064 3 84750000052250\n"
     ]
    }
   ],
   "source": [
    "main(path = 'ex1.pdf')"
   ]
  },
  {
   "cell_type": "code",
   "execution_count": 3,
   "metadata": {},
   "outputs": [
    {
     "name": "stdout",
     "output_type": "stream",
     "text": [
      "Data:  20/12/2020 | Valor: R$522,50 \n",
      "Pagar: 74891 12024 13550 307303 11961 701064 3 84750000052250\n",
      "\n",
      "\n",
      "Data:  11/02/2021 | Valor: R$479,10 \n",
      "Pagar: 0019 00190 00009 02162 756007 21185 613177 8 85280000047910\n",
      "\n",
      "\n",
      "Data:  25/01/2021 | Valor: R$277,88 \n",
      "Pagar: 03399 85178 31200 000003 11438 301019 2 85110000027788\n",
      "\n",
      "\n"
     ]
    }
   ],
   "source": [
    "for i in range(1,4):\n",
    "    path = f\"ex{i}.pdf\"\n",
    "    main(path)\n",
    "    print('\\n')"
   ]
  },
  {
   "cell_type": "code",
   "execution_count": null,
   "metadata": {},
   "outputs": [],
   "source": []
  },
  {
   "cell_type": "code",
   "execution_count": null,
   "metadata": {},
   "outputs": [],
   "source": []
  },
  {
   "cell_type": "code",
   "execution_count": null,
   "metadata": {},
   "outputs": [],
   "source": []
  }
 ],
 "metadata": {
  "kernelspec": {
   "display_name": "Python 3",
   "language": "python",
   "name": "python3"
  },
  "language_info": {
   "codemirror_mode": {
    "name": "ipython",
    "version": 3
   },
   "file_extension": ".py",
   "mimetype": "text/x-python",
   "name": "python",
   "nbconvert_exporter": "python",
   "pygments_lexer": "ipython3",
   "version": "3.9.1"
  }
 },
 "nbformat": 4,
 "nbformat_minor": 4
}
